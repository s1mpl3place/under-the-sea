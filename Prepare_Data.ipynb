{
 "cells": [
  {
   "cell_type": "code",
   "execution_count": null,
   "metadata": {},
   "outputs": [],
   "source": [
    "import pandas as pd\n",
    "import matplotlib.pyplot as plt\n",
    "import pycountry\n",
    "import pycountry_convert as pc"
   ]
  },
  {
   "cell_type": "code",
   "execution_count": null,
   "metadata": {},
   "outputs": [],
   "source": [
    "mmr_data = pd.read_csv(\"./data/estimates/estimates.csv\")"
   ]
  },
  {
   "cell_type": "code",
   "execution_count": null,
   "metadata": {},
   "outputs": [],
   "source": [
    "df = mmr_data[mmr_data[\"parameter\"]==\"maternal_deaths\"].drop(columns=[\"0.1\", \"0.9\", \"estimate_version\", \"parameter\"]).reset_index().drop(columns=\"index\").drop_duplicates()"
   ]
  },
  {
   "cell_type": "code",
   "execution_count": null,
   "metadata": {},
   "outputs": [],
   "source": [
    "df_average = pd.merge(df, df.set_index('iso_alpha_3_code').groupby('iso_alpha_3_code')['0.5'].mean(), on='iso_alpha_3_code')\\\n",
    "                                                          .rename(columns={'0.5_x':'0.5', '0.5_y':'average_md'})"
   ]
  },
  {
   "cell_type": "code",
   "execution_count": null,
   "metadata": {},
   "outputs": [],
   "source": [
    "df_average[\"average_md_q0.1\"] = df_average['average_md'].drop_duplicates().quantile(0.1)\n",
    "df_average[\"average_md_q1\"] = df_average['average_md'].drop_duplicates().quantile(0.25)\n",
    "df_average[\"average_md_q2\"] = df_average['average_md'].drop_duplicates().quantile(0.50)\n",
    "df_average[\"average_md_q3\"] = df_average['average_md'].drop_duplicates().quantile(0.75)\n",
    "df_average[\"average_md_q0.9\"] = df_average['average_md'].drop_duplicates().quantile(0.9)\n",
    "df_average[\"average_md_q0.99\"] = df_average['average_md'].drop_duplicates().quantile(0.99)\n",
    "df_average[\"average_md_mean\"] = df_average['average_md'].drop_duplicates().mean()"
   ]
  },
  {
   "cell_type": "code",
   "execution_count": null,
   "metadata": {},
   "outputs": [],
   "source": [
    "def label(x):\n",
    "    if (x[\"average_md\"] < x[\"average_md_q0.1\"]):\n",
    "        return 'less_than_q0.1'\n",
    "    elif (x[\"average_md_q0.1\"] <= x[\"average_md\"]) &  (x[\"average_md\"] < x[\"average_md_q1\"]):\n",
    "        return 'between_q0.1_q1'    \n",
    "    elif (x[\"average_md_q1\"] <= x[\"average_md\"]) &  (x[\"average_md\"] < x[\"average_md_q2\"]):\n",
    "        return 'between_q1_q2'\n",
    "    elif (x[\"average_md_q2\"] <= x[\"average_md\"]) & (x[\"average_md\"] < x[\"average_md_q3\"]):\n",
    "        return 'between_q2_q3'\n",
    "    elif (x[\"average_md_q3\"] <= x[\"average_md\"]) & (x[\"average_md\"] < x[\"average_md_q0.9\"]):\n",
    "        return 'between_q3_q0.9'\n",
    "    elif (x[\"average_md_q0.9\"] <= x[\"average_md\"]) & (x[\"average_md\"] < x[\"average_md_q0.99\"]):\n",
    "        return 'between_q3_q0.99'\n",
    "    elif (x[\"average_md\"] > x[\"average_md_q0.99\"]):\n",
    "        return 'greater_than_q0.99'\n",
    "    return 'not_applicable'"
   ]
  },
  {
   "cell_type": "code",
   "execution_count": null,
   "metadata": {},
   "outputs": [],
   "source": [
    "df_average[\"analysis_group\"] = df_average.apply(lambda x: label(x), axis=1)"
   ]
  },
  {
   "cell_type": "code",
   "execution_count": null,
   "metadata": {},
   "outputs": [],
   "source": [
    "#df_average['analysis_group'].unique()"
   ]
  },
  {
   "cell_type": "code",
   "execution_count": null,
   "metadata": {},
   "outputs": [],
   "source": [
    "#df_average.groupby(\"analysis_group\")['iso_alpha_3_code'].nunique()"
   ]
  },
  {
   "cell_type": "code",
   "execution_count": null,
   "metadata": {},
   "outputs": [],
   "source": [
    "#df_average[df_average[\"analysis_group\"]==\"between_q1_q2\"][\"iso_alpha_3_code\"].nunique()"
   ]
  },
  {
   "cell_type": "code",
   "execution_count": null,
   "metadata": {},
   "outputs": [],
   "source": [
    "def iso_to_continent(x):\n",
    "    # iso alpha 3 to alpha 2\n",
    "    country_alpha2 = pycountry.countries.get(alpha_3=x).alpha_2\n",
    "    \n",
    "    # alpha 2 to continent\n",
    "    try:\n",
    "        country_continent_code = pc.country_alpha2_to_continent_code(country_alpha2)\n",
    "    except:\n",
    "        country_continent_code = ''\n",
    "        \n",
    "    try:\n",
    "        country_continent_name = pc.convert_continent_code_to_continent_name(country_continent_code)\n",
    "    except:\n",
    "        country_continent_name = ''\n",
    "    return country_continent_name"
   ]
  },
  {
   "cell_type": "code",
   "execution_count": null,
   "metadata": {},
   "outputs": [],
   "source": [
    "df_average['continent'] = df_average['iso_alpha_3_code'].apply(lambda x: iso_to_continent(x))"
   ]
  },
  {
   "cell_type": "code",
   "execution_count": null,
   "metadata": {},
   "outputs": [],
   "source": [
    "# df_average.groupby(['continent'])['iso_alpha_3_code'].nunique()"
   ]
  },
  {
   "cell_type": "code",
   "execution_count": null,
   "metadata": {},
   "outputs": [],
   "source": [
    "#df_average[df_average[\"analysis_group\"]==\"less_than_q0.1\"]"
   ]
  },
  {
   "cell_type": "code",
   "execution_count": null,
   "metadata": {},
   "outputs": [],
   "source": [
    "df_average[\"round_0_5\"] = df_average[\"0.5\"].round(0).astype(int)"
   ]
  },
  {
   "cell_type": "code",
   "execution_count": null,
   "metadata": {},
   "outputs": [],
   "source": [
    "df_average.to_pickle(\"df_average.pkl\")"
   ]
  }
 ],
 "metadata": {
  "kernelspec": {
   "display_name": "Python [conda env:maternal_mortality] *",
   "language": "python",
   "name": "conda-env-maternal_mortality-py"
  },
  "language_info": {
   "codemirror_mode": {
    "name": "ipython",
    "version": 3
   },
   "file_extension": ".py",
   "mimetype": "text/x-python",
   "name": "python",
   "nbconvert_exporter": "python",
   "pygments_lexer": "ipython3",
   "version": "3.8.16"
  }
 },
 "nbformat": 4,
 "nbformat_minor": 4
}
